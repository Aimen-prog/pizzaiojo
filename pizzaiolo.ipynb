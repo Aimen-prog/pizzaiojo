{
 "cells": [
  {
   "cell_type": "code",
   "execution_count": 12,
   "id": "initial_id",
   "metadata": {
    "collapsed": true,
    "ExecuteTime": {
     "end_time": "2024-01-23T10:33:03.642302976Z",
     "start_time": "2024-01-23T10:33:03.600342957Z"
    }
   },
   "outputs": [],
   "source": [
    "import pandas as pd"
   ]
  },
  {
   "cell_type": "code",
   "outputs": [
    {
     "name": "stdout",
     "output_type": "stream",
     "text": [
      "   order_details_id  order_id       pizza_id  quantity order_date order_time  \\\n",
      "0                 1         1     hawaiian_m         1 2015-01-01   11:38:36   \n",
      "1                 2         2  classic_dlx_m         1 2015-01-01   11:57:40   \n",
      "2                 3         2  five_cheese_l         1 2015-01-01   11:57:40   \n",
      "\n",
      "   unit_price  total_price pizza_size pizza_category  \\\n",
      "0       13.25        13.25          M        Classic   \n",
      "1       16.00        16.00          M        Classic   \n",
      "2       18.50        18.50          L         Veggie   \n",
      "\n",
      "                                   pizza_ingredients                pizza_name  \n",
      "0           Sliced Ham, Pineapple, Mozzarella Cheese        The Hawaiian Pizza  \n",
      "1  Pepperoni, Mushrooms, Red Onions, Red Peppers,...  The Classic Deluxe Pizza  \n",
      "2  Mozzarella Cheese, Provolone Cheese, Smoked Go...     The Five Cheese Pizza  \n"
     ]
    }
   ],
   "source": [
    "excel_file_path = \"./pizza_sales/Data Model - Pizza Sales.xlsx\"\n",
    "# Read Excel file into a Pandas DataFrame\n",
    "df = pd.read_excel(excel_file_path, engine='openpyxl')\n",
    "\n",
    "# Display the DataFrame\n",
    "print(df.head(3))"
   ],
   "metadata": {
    "collapsed": false,
    "ExecuteTime": {
     "end_time": "2024-01-23T10:33:10.523766550Z",
     "start_time": "2024-01-23T10:33:03.642819095Z"
    }
   },
   "id": "682d3edaad25765d",
   "execution_count": 13
  },
  {
   "cell_type": "code",
   "outputs": [
    {
     "name": "stdout",
     "output_type": "stream",
     "text": [
      "Il y a 91 pizzas uniques dans le jeu de données.\n",
      "Il y a 21350 commandes uniques dans le jeu de données.\n"
     ]
    }
   ],
   "source": [
    "#Informations de base\n",
    "#a)\n",
    "pizza_id_counts = df['pizza_id'].value_counts()\n",
    "print(f\"Il y a {len(pizza_id_counts)} pizzas uniques dans le jeu de données.\")\n",
    "\n",
    "#b)\n",
    "order_id_counts = df['order_id'].value_counts()\n",
    "print(f\"Il y a {len(order_id_counts)} commandes uniques dans le jeu de données.\")\n"
   ],
   "metadata": {
    "collapsed": false,
    "ExecuteTime": {
     "end_time": "2024-01-23T10:33:10.524447129Z",
     "start_time": "2024-01-23T10:33:10.509880976Z"
    }
   },
   "id": "385e0c2fe3573c2",
   "execution_count": 14
  },
  {
   "cell_type": "code",
   "outputs": [
    {
     "name": "stdout",
     "output_type": "stream",
     "text": [
      "Plage de dates: 2015-01-01 à 2015-12-31\n",
      "Nombre de commandes par jour :\n",
      "order_date\n",
      "2015-01-01    162\n",
      "2015-01-02    165\n",
      "2015-01-03    158\n",
      "2015-01-04    106\n",
      "2015-01-05    125\n",
      "             ... \n",
      "2015-12-27     89\n",
      "2015-12-28    102\n",
      "2015-12-29     80\n",
      "2015-12-30     82\n",
      "2015-12-31    178\n",
      "Name: quantity, Length: 358, dtype: int64\n",
      "Nous n'avons aucun moyen de calculer correctement la durée moyenne pour traiter une commande.\n"
     ]
    }
   ],
   "source": [
    "#Analyse temporelle\n",
    "#a)\n",
    "date_range_start = df['order_date'].min().date()\n",
    "date_range_end = df['order_date'].max().date()\n",
    "print(f'Plage de dates: {date_range_start} à {date_range_end}')\n",
    "\n",
    "#b)\n",
    "daily_orders = df.groupby('order_date')['quantity'].sum()\n",
    "print(\"Nombre de commandes par jour :\")\n",
    "print(daily_orders)\n",
    "\n",
    "#c)\n",
    "print(f\"Nous n'avons aucun moyen de calculer correctement la durée moyenne pour traiter une commande.\")\n",
    "\n"
   ],
   "metadata": {
    "collapsed": false,
    "ExecuteTime": {
     "end_time": "2024-01-23T10:33:10.525396085Z",
     "start_time": "2024-01-23T10:33:10.510240878Z"
    }
   },
   "id": "e6c03dd94a743eb9",
   "execution_count": 15
  },
  {
   "cell_type": "code",
   "outputs": [
    {
     "name": "stdout",
     "output_type": "stream",
     "text": [
      "2.321967213114754\n",
      "L      18526\n",
      "M      15385\n",
      "S      14137\n",
      "XL       544\n",
      "XXL       28\n",
      "Name: pizza_size, dtype: int64\n",
      "L\n",
      "Classic    14579\n",
      "Supreme    11777\n",
      "Veggie     11449\n",
      "Chicken    10815\n",
      "Name: pizza_category, dtype: int64\n",
      "Classic\n"
     ]
    }
   ],
   "source": [
    "#Analyse de la quantité\n",
    "#a)\n",
    "print(df.groupby('order_id')['quantity'].sum().mean())\n",
    "\n",
    "#b)\n",
    "print(df.pizza_size.value_counts())\n",
    "print(df.pizza_size.value_counts().index[0])\n",
    "\n",
    "#c)\n",
    "print(df.pizza_category.value_counts())\n",
    "print(df.pizza_category.value_counts().index[0])\n",
    "\n",
    "\n"
   ],
   "metadata": {
    "collapsed": false,
    "ExecuteTime": {
     "end_time": "2024-01-23T10:33:43.822219273Z",
     "start_time": "2024-01-23T10:33:43.779288234Z"
    }
   },
   "id": "c5bff0680e7c4504",
   "execution_count": 17
  },
  {
   "cell_type": "code",
   "outputs": [
    {
     "name": "stdout",
     "output_type": "stream",
     "text": [
      "16.494\n",
      "38.307\n",
      "The Greek Pizza\n"
     ]
    }
   ],
   "source": [
    "#Analyse des prix\n",
    "#a)\n",
    "print(df.apply(lambda x: x['total_price'] / x['quantity'], axis=1).mean().round(3))\n",
    "\n",
    "#b)\n",
    "print(df.groupby('order_id')['total_price'].sum().mean().round(3))\n",
    "\n",
    "#c)\n",
    "print(df[df.unit_price == df.unit_price.max()].iloc[0]['pizza_name'])"
   ],
   "metadata": {
    "collapsed": false,
    "ExecuteTime": {
     "end_time": "2024-01-23T14:20:25.863782925Z",
     "start_time": "2024-01-23T14:20:25.185176911Z"
    }
   },
   "id": "8dd27208e26fab52",
   "execution_count": 24
  },
  {
   "cell_type": "code",
   "outputs": [
    {
     "name": "stdout",
     "output_type": "stream",
     "text": [
      "pizza_size\n",
      "L      18956\n",
      "M      15635\n",
      "S      14403\n",
      "XL       552\n",
      "XXL       28\n",
      "Name: quantity, dtype: int64\n",
      "pizza_category\n",
      "Chicken    6\n",
      "Classic    8\n",
      "Supreme    9\n",
      "Veggie     9\n",
      "Name: pizza_name, dtype: int64\n"
     ]
    }
   ],
   "source": [
    "#Répartition par taille et catégorie :\n",
    "#a)\n",
    "print(df.groupby('pizza_size')['quantity'].sum())\n",
    "\n",
    "#b)\n",
    "print(df.groupby('pizza_category')['pizza_name'].nunique())"
   ],
   "metadata": {
    "collapsed": false,
    "ExecuteTime": {
     "end_time": "2024-01-23T10:49:40.404410067Z",
     "start_time": "2024-01-23T10:49:40.380369296Z"
    }
   },
   "id": "c9c5b430fca673eb",
   "execution_count": 19
  },
  {
   "cell_type": "code",
   "outputs": [
    {
     "name": "stdout",
     "output_type": "stream",
     "text": [
      "Les ingrédients les plus couramment utilisés dans toutes les pizzas sont :\n",
      "Garlic               27422\n",
      "Tomatoes             26601\n",
      "Red Onions           19547\n",
      "Red Peppers          16284\n",
      "Mozzarella Cheese    10333\n",
      "Pepperoni            10300\n",
      "Spinach              10012\n",
      "Mushrooms             9624\n",
      "Chicken               8443\n",
      "Capocollo             6572\n",
      "dtype: int64\n",
      "\n",
      "Combien de pizzas contiennent un ingrédient spécifique (par exemple, pepperoni, champignons) ?\n",
      "Nombre de pizzas contenant pepperoni: 10300\n"
     ]
    }
   ],
   "source": [
    "#Analyse des ingrédients :\n",
    "\n",
    "#a)\n",
    "df2 =pd.DataFrame()\n",
    "df2['ingredients_list'] = df['pizza_ingredients'].str.split(',')\n",
    "all_ingredients = [ingredient.strip() for sublist in df2['ingredients_list'] for ingredient in sublist]\n",
    "ingredient_counts = pd.Series(all_ingredients).value_counts()\n",
    "print(f\"Les ingrédients les plus couramment utilisés dans toutes les pizzas sont :\\n{ingredient_counts.head(10)}\")\n",
    "\n",
    "#b)\n",
    "print()\n",
    "print(\"Combien de pizzas contiennent un ingrédient spécifique (par exemple, pepperoni, champignons) ?\")\n",
    "\n",
    "target = 'pepperoni' # mushrooms\n",
    "df2['contains_target_ingredient'] = df['pizza_ingredients'].str.contains(target, case=False)\n",
    "pizzas_with_target = df2['contains_target_ingredient'].sum()\n",
    "print(f\"Nombre de pizzas contenant {target} : {pizzas_with_target}\")\n",
    "\n"
   ],
   "metadata": {
    "collapsed": false,
    "ExecuteTime": {
     "end_time": "2024-01-23T15:16:33.085212766Z",
     "start_time": "2024-01-23T15:16:32.720991438Z"
    }
   },
   "id": "6a21ec86d4c2ba5a",
   "execution_count": 47
  },
  {
   "cell_type": "code",
   "outputs": [],
   "source": [
    "#Détails de la commande :\n",
    "\n",
    "#a)\n",
    "\n",
    "\n",
    "#b)\n",
    "\n"
   ],
   "metadata": {
    "collapsed": false
   },
   "id": "a8dcb49d5fddbad9"
  },
  {
   "cell_type": "code",
   "outputs": [],
   "source": [
    "#Analyse du chiffre d’affaires en fonction du temps :\n",
    "\n",
    "#a)\n",
    "\n",
    "\n",
    "#b)\n",
    "\n"
   ],
   "metadata": {
    "collapsed": false
   },
   "id": "8e34907ea33dc937"
  },
  {
   "cell_type": "code",
   "outputs": [],
   "source": [
    "#Pizzas populaires :\n",
    "\n",
    "#a)\n",
    "\n",
    "\n",
    "#b)\n",
    "\n"
   ],
   "metadata": {
    "collapsed": false
   },
   "id": "85b510745d02f3a1"
  }
 ],
 "metadata": {
  "kernelspec": {
   "display_name": "Python 3",
   "language": "python",
   "name": "python3"
  },
  "language_info": {
   "codemirror_mode": {
    "name": "ipython",
    "version": 2
   },
   "file_extension": ".py",
   "mimetype": "text/x-python",
   "name": "python",
   "nbconvert_exporter": "python",
   "pygments_lexer": "ipython2",
   "version": "2.7.6"
  }
 },
 "nbformat": 4,
 "nbformat_minor": 5
}
